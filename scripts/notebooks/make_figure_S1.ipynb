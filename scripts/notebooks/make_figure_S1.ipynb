{
 "cells": [
  {
   "cell_type": "code",
   "execution_count": null,
   "id": "0",
   "metadata": {},
   "outputs": [],
   "source": [
    "import numpy as np\n",
    "import matplotlib.pyplot as plt\n",
    "from textwrap import dedent\n",
    "\n",
    "# Parameters\n",
    "E0 = 1.0 # Initial enzyme activity\n",
    "a = 0.1 # Residual enzyme activity after inhibition\n",
    "k = 0.562 # How fast the enzyme activity reaches the residual activity\n",
    "t_end = 15.0 # Time span (hours)\n",
    "\n",
    "# Analytic solution\n",
    "def E(t):\n",
    "    return a + (E0 - a) * np.exp(-k * t)\n",
    "\n",
    "t = np.linspace(0, t_end, 800)\n",
    "Et = E(t)\n",
    "\n",
    "# Create figure\n",
    "plt.figure(figsize=(8, 5))\n",
    "plt.plot(t, Et, label=\"Enzyme activity E(t)\", color=\"blue\", linewidth=2)\n",
    "plt.axhline(a, linestyle=\"--\", linewidth=1.5, color=\"red\", label=\"Residual activity (a)\")\n",
    "\n",
    "# Labels and formatting\n",
    "plt.xlabel(\"Time (hours)\", fontsize=15)\n",
    "plt.ylabel(\"Relative enzyme activity\", fontsize=15)\n",
    "plt.tick_params(axis='both', which='major', labelsize=12)\n",
    "plt.ylim(0, 1.05)\n",
    "plt.xlim(0, t_end)\n",
    "plt.grid(True, linestyle=\"--\", alpha=0.3)\n",
    "plt.legend(loc=\"upper right\", frameon=False, fontsize=12)\n",
    "\n",
    "# Simplified annotation textbox\n",
    "textbox = dedent(f\"\"\"\n",
    "Enzyme activity inhibition modelled \n",
    "as exponential decay:\n",
    "\n",
    "ODE: dE/dt = -k (a - E)         \n",
    "Parameters: a={a}, k={k} h⁻¹\n",
    "\"\"\").strip()\n",
    "\n",
    "plt.gcf().text(0.5, 0.4, textbox, fontsize=12, va=\"bottom\", ha=\"left\")\n",
    "\n",
    "plt.tight_layout()\n",
    "\n",
    "# Save updated high-resolution image files\n",
    "plt.savefig('../../results/drug_target_simulation/Figure_S1_enzyme_inhibition_model.pdf',\n",
    "            transparent=True,\n",
    "            bbox_inches='tight',\n",
    "            pad_inches=0.1,\n",
    "            dpi=300)\n"
   ]
  },
  {
   "cell_type": "code",
   "execution_count": null,
   "id": "1",
   "metadata": {},
   "outputs": [],
   "source": []
  }
 ],
 "metadata": {
  "kernelspec": {
   "display_name": "Python 3",
   "language": "python",
   "name": "python3"
  },
  "language_info": {
   "codemirror_mode": {
    "name": "ipython",
    "version": 3
   },
   "file_extension": ".py",
   "mimetype": "text/x-python",
   "name": "python",
   "nbconvert_exporter": "python",
   "pygments_lexer": "ipython3",
   "version": "3.6.14"
  }
 },
 "nbformat": 4,
 "nbformat_minor": 5
}
